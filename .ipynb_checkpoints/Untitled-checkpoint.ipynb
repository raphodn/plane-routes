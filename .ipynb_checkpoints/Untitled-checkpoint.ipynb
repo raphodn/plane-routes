{
 "cells": [
  {
   "cell_type": "code",
   "execution_count": 158,
   "metadata": {
    "collapsed": false
   },
   "outputs": [],
   "source": [
    "# coding='utf-8'\n",
    "import json\n",
    "import csv\n",
    "import pandas as pd\n",
    "from bs4 import BeautifulSoup\n",
    "\n",
    "html_doc = \"airfrance_paris_1.html\"\n",
    "\n",
    "soup = BeautifulSoup(open(html_doc), 'html.parser')"
   ]
  },
  {
   "cell_type": "code",
   "execution_count": 159,
   "metadata": {
    "collapsed": false
   },
   "outputs": [
    {
     "data": {
      "text/plain": [
       "<div class=\"pnl-actions\">\\n<button aria-expanded=\"true\" class=\"btn\" data-collapse=\"panel\" type=\"button\">\\n<span aria-hidden=\"true\" data-icon=\"D\"></span>\\n<span class=\"results-summary\">\\n<b>Liste de vols au d\\xe9part de:</b>\\n<strong>Paris</strong>\\n</span>\\n<span class=\"results-count\">(\\n            <span data-total-format=\"{length} resultats\">275 resultats</span>)\\u200e\\n        </span>\\n</button>\\n<button aria-expanded=\"false\" class=\"btn\" data-expand=\"panel\" type=\"button\">\\n<span aria-hidden=\"true\" data-icon=\"\\xbb\"></span>\\n<span class=\"results-summary\">\\n<b>Liste de vols au d\\xe9part de:</b>\\n<strong>Paris</strong>\\n</span>\\n<span class=\"results-count\">(\\n            <span data-total-format=\"{length} resultats\">275 resultats</span>)\\u200e\\n        </span>\\n</button>\\n</div>"
      ]
     },
     "execution_count": 159,
     "metadata": {},
     "output_type": "execute_result"
    }
   ],
   "source": [
    "soup.div\n",
    "# soup.div.button"
   ]
  },
  {
   "cell_type": "code",
   "execution_count": 160,
   "metadata": {
    "collapsed": false
   },
   "outputs": [],
   "source": [
    "all_tables = soup.find_all('table')\n",
    "all_tr = soup.find_all('tr')\n",
    "all_results_details = soup.find_all(\"tr\", class_=\"results-list-details\")"
   ]
  },
  {
   "cell_type": "code",
   "execution_count": 161,
   "metadata": {
    "collapsed": false
   },
   "outputs": [
    {
     "data": {
      "text/plain": [
       "100"
      ]
     },
     "execution_count": 161,
     "metadata": {},
     "output_type": "execute_result"
    }
   ],
   "source": [
    "# all_tables[0].contents[3]\n",
    "# len(all_tables[0].contents[3])\n",
    "len(all_results_details)"
   ]
  },
  {
   "cell_type": "code",
   "execution_count": 215,
   "metadata": {
    "collapsed": false
   },
   "outputs": [
    {
     "data": {
      "text/plain": [
       "u'A\\xe9roport de Charles De Gaulle'"
      ]
     },
     "execution_count": 215,
     "metadata": {},
     "output_type": "execute_result"
    }
   ],
   "source": [
    "# Un seul tronçon\n",
    "list(all_results_details[0].contents[1].tbody.children)[1].td.h2.string\n",
    "\n",
    "# Aeroport de départ\n",
    "# list(list(list(all_results_details[0].contents[1].tbody.children)[3].td.children)[3].strings)[0]\n",
    "# list(list(list(all_results_details[0].contents[1].tbody.children)[3].td.children)[3].strings)[1]\n",
    "# list(list(list(list(all_results_details[0].contents[1].tbody.children)[3])[1])[3].stripped_strings)[0]\n",
    "# list(list(list(list(all_results_details[0].contents[1].tbody.children)[3])[1])[3].stripped_strings)[1]\n",
    "\n",
    "# Aeroport d'arrivée\n",
    "# list(list(list(list(all_results_details[0].contents[1].tbody.children)[3])[3])[3].stripped_strings)[0]\n",
    "# list(list(list(list(all_results_details[0].contents[1].tbody.children)[3])[3])[3].stripped_strings)[1]\n",
    "\n",
    "# Compagnie aérienne\n",
    "# list(list(list(list(all_results_details[0].contents[1].tbody.children)[3])[5])[3].stripped_strings)[0]"
   ]
  },
  {
   "cell_type": "code",
   "execution_count": null,
   "metadata": {
    "collapsed": true
   },
   "outputs": [],
   "source": []
  }
 ],
 "metadata": {
  "kernelspec": {
   "display_name": "Python 2",
   "language": "python",
   "name": "python2"
  },
  "language_info": {
   "codemirror_mode": {
    "name": "ipython",
    "version": 2
   },
   "file_extension": ".py",
   "mimetype": "text/x-python",
   "name": "python",
   "nbconvert_exporter": "python",
   "pygments_lexer": "ipython2",
   "version": "2.7.12"
  }
 },
 "nbformat": 4,
 "nbformat_minor": 0
}
