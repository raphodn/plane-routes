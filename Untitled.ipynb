{
 "cells": [
  {
   "cell_type": "code",
   "execution_count": 272,
   "metadata": {
    "collapsed": false
   },
   "outputs": [],
   "source": [
    "# coding='utf-8'\n",
    "import json\n",
    "import csv\n",
    "import pandas as pd\n",
    "from bs4 import BeautifulSoup\n",
    "\n",
    "html_doc = \"airfrance_paris_1.html\"\n",
    "\n",
    "soup = BeautifulSoup(open(html_doc), 'html.parser')"
   ]
  },
  {
   "cell_type": "code",
   "execution_count": 273,
   "metadata": {
    "collapsed": false
   },
   "outputs": [
    {
     "data": {
      "text/plain": [
       "<div class=\"pnl-actions\">\\n<button aria-expanded=\"true\" class=\"btn\" data-collapse=\"panel\" type=\"button\">\\n<span aria-hidden=\"true\" data-icon=\"D\"></span>\\n<span class=\"results-summary\">\\n<b>Liste de vols au d\\xe9part de:</b>\\n<strong>Paris</strong>\\n</span>\\n<span class=\"results-count\">(\\n            <span data-total-format=\"{length} resultats\">275 resultats</span>)\\n        </span>\\n</button>\\n<button aria-expanded=\"false\" class=\"btn\" data-expand=\"panel\" type=\"button\">\\n<span aria-hidden=\"true\" data-icon=\"\\xbb\"></span>\\n<span class=\"results-summary\">\\n<b>Liste de vols au d\\xe9part de:</b>\\n<strong>Paris</strong>\\n</span>\\n<span class=\"results-count\">(\\n            <span data-total-format=\"{length} resultats\">275 resultats</span>)\\n        </span>\\n</button>\\n</div>"
      ]
     },
     "execution_count": 273,
     "metadata": {},
     "output_type": "execute_result"
    }
   ],
   "source": [
    "soup.div\n",
    "# soup.div.button"
   ]
  },
  {
   "cell_type": "code",
   "execution_count": 274,
   "metadata": {
    "collapsed": false
   },
   "outputs": [],
   "source": [
    "all_tables = soup.find_all('table')\n",
    "all_tr = soup.find_all('tr')\n",
    "all_results_details = soup.find_all(\"tr\", class_=\"results-list-details\")"
   ]
  },
  {
   "cell_type": "code",
   "execution_count": 275,
   "metadata": {
    "collapsed": false
   },
   "outputs": [
    {
     "data": {
      "text/plain": [
       "100"
      ]
     },
     "execution_count": 275,
     "metadata": {},
     "output_type": "execute_result"
    }
   ],
   "source": [
    "# all_tables[0].contents[3]\n",
    "# len(all_tables[0].contents[3])\n",
    "len(all_results_details)"
   ]
  },
  {
   "cell_type": "code",
   "execution_count": 276,
   "metadata": {
    "collapsed": false
   },
   "outputs": [
    {
     "data": {
      "text/plain": [
       "u'Un seul tron\\xe7on'"
      ]
     },
     "execution_count": 276,
     "metadata": {},
     "output_type": "execute_result"
    }
   ],
   "source": [
    "# Un seul tronçon\n",
    "list(all_results_details[0].contents[1].tbody.children)[1].td.h2.string\n",
    "\n",
    "# Aeroport de départ\n",
    "# list(list(list(list(all_results_details[0].contents[1].tbody.children)[3])[1])[3].stripped_strings)[0]\n",
    "# list(list(list(list(all_results_details[0].contents[1].tbody.children)[3])[1])[3].stripped_strings)[1]\n",
    "\n",
    "# etc (see python script)"
   ]
  },
  {
   "cell_type": "code",
   "execution_count": 277,
   "metadata": {
    "collapsed": true
   },
   "outputs": [],
   "source": [
    "df = pd.read_csv(\"airfrance.csv\")\n",
    "df = df.fillna(\"\")"
   ]
  },
  {
   "cell_type": "code",
   "execution_count": 278,
   "metadata": {
    "collapsed": false
   },
   "outputs": [
    {
     "data": {
      "text/html": [
       "<div>\n",
       "<table border=\"1\" class=\"dataframe\">\n",
       "  <thead>\n",
       "    <tr style=\"text-align: right;\">\n",
       "      <th></th>\n",
       "      <th>departure_airport_name</th>\n",
       "      <th>departure_airport_code</th>\n",
       "      <th>arrival_airport_name</th>\n",
       "      <th>arrival_airport_code</th>\n",
       "      <th>airline_name</th>\n",
       "      <th>airline_assured_name</th>\n",
       "      <th>departure_city_name</th>\n",
       "      <th>departure_city_code</th>\n",
       "      <th>arrival_city_name</th>\n",
       "      <th>arrival_city_code</th>\n",
       "      <th>...</th>\n",
       "      <th>stopover_city_name</th>\n",
       "      <th>stopover_city_code</th>\n",
       "      <th>stopover_airport_name</th>\n",
       "      <th>stopover_airport_code</th>\n",
       "      <th>stopover_country</th>\n",
       "      <th>departure_country_name</th>\n",
       "      <th>departure_country_code</th>\n",
       "      <th>arrival_country_name</th>\n",
       "      <th>arrival_country_code</th>\n",
       "      <th>distance</th>\n",
       "    </tr>\n",
       "  </thead>\n",
       "  <tbody>\n",
       "    <tr>\n",
       "      <th>0</th>\n",
       "      <td>Aéroport de Charles De Gaulle</td>\n",
       "      <td>CDG</td>\n",
       "      <td>Aéroport de Dyce</td>\n",
       "      <td>ABZ</td>\n",
       "      <td>Air France</td>\n",
       "      <td>HOP!</td>\n",
       "      <td>Paris</td>\n",
       "      <td>PAR</td>\n",
       "      <td>Aberdeen</td>\n",
       "      <td>ABZ</td>\n",
       "      <td>...</td>\n",
       "      <td></td>\n",
       "      <td></td>\n",
       "      <td></td>\n",
       "      <td></td>\n",
       "      <td></td>\n",
       "      <td>France</td>\n",
       "      <td>FR</td>\n",
       "      <td>Royaume-Uni</td>\n",
       "      <td>GB</td>\n",
       "      <td>966</td>\n",
       "    </tr>\n",
       "    <tr>\n",
       "      <th>1</th>\n",
       "      <td>Aéroport de Charles De Gaulle</td>\n",
       "      <td>CDG</td>\n",
       "      <td>Aéroport de Felix Houphouet Boigny</td>\n",
       "      <td>ABJ</td>\n",
       "      <td>Air France</td>\n",
       "      <td></td>\n",
       "      <td>Paris</td>\n",
       "      <td>PAR</td>\n",
       "      <td>Abidjan</td>\n",
       "      <td>ABJ</td>\n",
       "      <td>...</td>\n",
       "      <td>Ouagadougou</td>\n",
       "      <td>OUA)</td>\n",
       "      <td>Aéroport d' Ouagadougou</td>\n",
       "      <td></td>\n",
       "      <td>Burkina Faso</td>\n",
       "      <td>France</td>\n",
       "      <td>FR</td>\n",
       "      <td>Côte d'Ivoire</td>\n",
       "      <td>CI</td>\n",
       "      <td>4908</td>\n",
       "    </tr>\n",
       "    <tr>\n",
       "      <th>2</th>\n",
       "      <td>Aéroport de Charles De Gaulle</td>\n",
       "      <td>CDG</td>\n",
       "      <td>Aéroport de Felix Houphouet Boigny</td>\n",
       "      <td>ABJ</td>\n",
       "      <td>Air France</td>\n",
       "      <td></td>\n",
       "      <td>Paris</td>\n",
       "      <td>PAR</td>\n",
       "      <td>Abidjan</td>\n",
       "      <td>ABJ</td>\n",
       "      <td>...</td>\n",
       "      <td></td>\n",
       "      <td></td>\n",
       "      <td></td>\n",
       "      <td></td>\n",
       "      <td></td>\n",
       "      <td>France</td>\n",
       "      <td>FR</td>\n",
       "      <td>Côte d'Ivoire</td>\n",
       "      <td>CI</td>\n",
       "      <td>4908</td>\n",
       "    </tr>\n",
       "    <tr>\n",
       "      <th>3</th>\n",
       "      <td>Aéroport de Charles De Gaulle</td>\n",
       "      <td>CDG</td>\n",
       "      <td>Aéroport de Felix Houphouet Boigny</td>\n",
       "      <td>ABJ</td>\n",
       "      <td>Air France</td>\n",
       "      <td></td>\n",
       "      <td>Paris</td>\n",
       "      <td>PAR</td>\n",
       "      <td>Abidjan</td>\n",
       "      <td>ABJ</td>\n",
       "      <td>...</td>\n",
       "      <td>Bamako</td>\n",
       "      <td>BKO)</td>\n",
       "      <td>Aéroport de Bamako</td>\n",
       "      <td></td>\n",
       "      <td>Mali</td>\n",
       "      <td>France</td>\n",
       "      <td>FR</td>\n",
       "      <td>Côte d'Ivoire</td>\n",
       "      <td>CI</td>\n",
       "      <td>4908</td>\n",
       "    </tr>\n",
       "    <tr>\n",
       "      <th>4</th>\n",
       "      <td>Aéroport de Charles De Gaulle</td>\n",
       "      <td>CDG</td>\n",
       "      <td>Aéroport International Abuja</td>\n",
       "      <td>ABV</td>\n",
       "      <td>Air France</td>\n",
       "      <td></td>\n",
       "      <td>Paris</td>\n",
       "      <td>PAR</td>\n",
       "      <td>Abuja</td>\n",
       "      <td>ABV</td>\n",
       "      <td>...</td>\n",
       "      <td></td>\n",
       "      <td></td>\n",
       "      <td></td>\n",
       "      <td></td>\n",
       "      <td></td>\n",
       "      <td>France</td>\n",
       "      <td>FR</td>\n",
       "      <td>Nigéria</td>\n",
       "      <td>NG</td>\n",
       "      <td>4476</td>\n",
       "    </tr>\n",
       "  </tbody>\n",
       "</table>\n",
       "<p>5 rows × 21 columns</p>\n",
       "</div>"
      ],
      "text/plain": [
       "          departure_airport_name departure_airport_code  \\\n",
       "0  Aéroport de Charles De Gaulle                    CDG   \n",
       "1  Aéroport de Charles De Gaulle                    CDG   \n",
       "2  Aéroport de Charles De Gaulle                    CDG   \n",
       "3  Aéroport de Charles De Gaulle                    CDG   \n",
       "4  Aéroport de Charles De Gaulle                    CDG   \n",
       "\n",
       "                 arrival_airport_name arrival_airport_code airline_name  \\\n",
       "0                    Aéroport de Dyce                  ABZ   Air France   \n",
       "1  Aéroport de Felix Houphouet Boigny                  ABJ   Air France   \n",
       "2  Aéroport de Felix Houphouet Boigny                  ABJ   Air France   \n",
       "3  Aéroport de Felix Houphouet Boigny                  ABJ   Air France   \n",
       "4        Aéroport International Abuja                  ABV   Air France   \n",
       "\n",
       "  airline_assured_name departure_city_name departure_city_code  \\\n",
       "0                 HOP!               Paris                 PAR   \n",
       "1                                    Paris                 PAR   \n",
       "2                                    Paris                 PAR   \n",
       "3                                    Paris                 PAR   \n",
       "4                                    Paris                 PAR   \n",
       "\n",
       "  arrival_city_name arrival_city_code   ...     stopover_city_name  \\\n",
       "0          Aberdeen               ABZ   ...                          \n",
       "1           Abidjan               ABJ   ...            Ouagadougou   \n",
       "2           Abidjan               ABJ   ...                          \n",
       "3           Abidjan               ABJ   ...                 Bamako   \n",
       "4             Abuja               ABV   ...                          \n",
       "\n",
       "  stopover_city_code    stopover_airport_name stopover_airport_code  \\\n",
       "0                                                                     \n",
       "1               OUA)  Aéroport d' Ouagadougou                         \n",
       "2                                                                     \n",
       "3               BKO)       Aéroport de Bamako                         \n",
       "4                                                                     \n",
       "\n",
       "  stopover_country departure_country_name departure_country_code  \\\n",
       "0                                  France                     FR   \n",
       "1     Burkina Faso                 France                     FR   \n",
       "2                                  France                     FR   \n",
       "3             Mali                 France                     FR   \n",
       "4                                  France                     FR   \n",
       "\n",
       "  arrival_country_name arrival_country_code distance  \n",
       "0          Royaume-Uni                   GB      966  \n",
       "1        Côte d'Ivoire                   CI     4908  \n",
       "2        Côte d'Ivoire                   CI     4908  \n",
       "3        Côte d'Ivoire                   CI     4908  \n",
       "4              Nigéria                   NG     4476  \n",
       "\n",
       "[5 rows x 21 columns]"
      ]
     },
     "execution_count": 278,
     "metadata": {},
     "output_type": "execute_result"
    }
   ],
   "source": [
    "df.head()"
   ]
  },
  {
   "cell_type": "code",
   "execution_count": 279,
   "metadata": {
    "collapsed": false
   },
   "outputs": [
    {
     "data": {
      "text/plain": [
       "(572, 21)"
      ]
     },
     "execution_count": 279,
     "metadata": {},
     "output_type": "execute_result"
    }
   ],
   "source": [
    "df.shape"
   ]
  },
  {
   "cell_type": "code",
   "execution_count": 281,
   "metadata": {
    "collapsed": false
   },
   "outputs": [
    {
     "data": {
      "text/plain": [
       "                         455\n",
       "KLM Cityhopper            66\n",
       "HOP!                      41\n",
       "Cityjet                    4\n",
       "WDL Aviation               3\n",
       "AN TRANSAVIA AIRCRAFT      1\n",
       "Avanti Air                 1\n",
       "Atlasjet                   1\n",
       "dtype: int64"
      ]
     },
     "execution_count": 281,
     "metadata": {},
     "output_type": "execute_result"
    }
   ],
   "source": [
    "df.departure_airport_code.values\n",
    "# pd.value_counts(df['departure_airport_code'].values)\n",
    "#pd.value_counts(df['airline_name'].values)\n",
    "pd.value_counts(df['airline_assured_name'].values)\n",
    "# pd.value_counts(df['arrival_city_name'].values)"
   ]
  },
  {
   "cell_type": "code",
   "execution_count": null,
   "metadata": {
    "collapsed": true
   },
   "outputs": [],
   "source": []
  }
 ],
 "metadata": {
  "kernelspec": {
   "display_name": "Python 2",
   "language": "python",
   "name": "python2"
  },
  "language_info": {
   "codemirror_mode": {
    "name": "ipython",
    "version": 2
   },
   "file_extension": ".py",
   "mimetype": "text/x-python",
   "name": "python",
   "nbconvert_exporter": "python",
   "pygments_lexer": "ipython2",
   "version": "2.7.12"
  }
 },
 "nbformat": 4,
 "nbformat_minor": 0
}
